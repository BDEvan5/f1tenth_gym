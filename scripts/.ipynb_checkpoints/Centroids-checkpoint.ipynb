{
 "cells": [
  {
   "cell_type": "code",
   "execution_count": 77,
   "metadata": {},
   "outputs": [],
   "source": [
    "scan_fov = 4.7\n",
    "scan_beams = 1080\n",
    "angle_min = -scan_fov/2.\n",
    "angle_max = scan_fov/ 2.\n",
    "angle_inc = scan_fov / scan_beams"
   ]
  },
  {
   "cell_type": "code",
   "execution_count": null,
   "metadata": {},
   "outputs": [],
   "source": []
  },
  {
   "cell_type": "code",
   "execution_count": 78,
   "metadata": {},
   "outputs": [],
   "source": [
    "import numpy as np\n",
    "import math\n",
    "import matplotlib.pyplot as plt\n",
    "import os\n",
    "import pickle"
   ]
  },
  {
   "cell_type": "code",
   "execution_count": 79,
   "metadata": {},
   "outputs": [],
   "source": [
    "def polar_to_cart(theta, r):\n",
    "    \"\"\"\n",
    "    Assumes theta in radians & returns x,y\n",
    "    \"\"\"\n",
    "    x = r*np.cos(theta)\n",
    "    y = r*np.sin(theta)\n",
    "    return x,y\n",
    "    \n",
    "def lidar_polar_to_cart(ranges, angle_min, angle_increment):\n",
    "    \"\"\"\n",
    "    Convert a lidar_dict to cartesian & return x_ranges & y_ranges\n",
    "    \"\"\"\n",
    "    x_ranges = []\n",
    "    y_ranges = []\n",
    "    for i, r in enumerate(ranges):\n",
    "        if r == np.nan:\n",
    "            x_ranges.append(1000000)\n",
    "            y_ranges.append(1000000)\n",
    "        else:\n",
    "            theta = angle_min + i * angle_increment\n",
    "            x, y = polar_to_cart(theta + math.pi/2, r*100.0)\n",
    "            x_ranges.append(x)\n",
    "            y_ranges.append(y)\n",
    "    return x_ranges, y_ranges"
   ]
  },
  {
   "cell_type": "code",
   "execution_count": 80,
   "metadata": {},
   "outputs": [],
   "source": [
    "folderpath = '../data/sim_train/'\n",
    "pkl_list = os.listdir(folderpath)\n",
    "pkl_list.sort()\n",
    "pkl_list = pkl_list[:]"
   ]
  },
  {
   "cell_type": "code",
   "execution_count": 86,
   "metadata": {},
   "outputs": [],
   "source": [
    "X = np.zeros((len(pkl_list), 1080))\n",
    "steers = []\n",
    "for i, pkl_name in enumerate(pkl_list):\n",
    "    with open(os.path.join(folderpath, pkl_name), 'rb') as f:\n",
    "        pkl_dict = pickle.load(f)\n",
    "        obs = pkl_dict.get(\"obs\")\n",
    "        act = pkl_dict.get(\"action\")\n",
    "        scans = obs[\"scans\"]\n",
    "        X[i, :] = np.array(scans)\n",
    "        steers.append(act[\"angle\"])"
   ]
  },
  {
   "cell_type": "code",
   "execution_count": 87,
   "metadata": {},
   "outputs": [],
   "source": [
    "from sklearn.cluster import KMeans\n",
    "km = KMeans(\n",
    "    n_clusters=10, init='random',\n",
    "    n_init=10, max_iter=300,\n",
    ")\n",
    "y_km = km.fit_predict(X)"
   ]
  },
  {
   "cell_type": "code",
   "execution_count": 126,
   "metadata": {},
   "outputs": [
    {
     "ename": "TypeError",
     "evalue": "'numpy.float64' object is not callable",
     "output_type": "error",
     "traceback": [
      "\u001b[0;31m---------------------------------------------------------------------------\u001b[0m",
      "\u001b[0;31mTypeError\u001b[0m                                 Traceback (most recent call last)",
      "\u001b[0;32m<ipython-input-126-1324b744f046>\u001b[0m in \u001b[0;36m<module>\u001b[0;34m()\u001b[0m\n\u001b[1;32m      1\u001b[0m \u001b[0mcenters\u001b[0m \u001b[0;34m=\u001b[0m \u001b[0mkm\u001b[0m\u001b[0;34m.\u001b[0m\u001b[0mcluster_centers_\u001b[0m\u001b[0;34m\u001b[0m\u001b[0;34m\u001b[0m\u001b[0m\n\u001b[0;32m----> 2\u001b[0;31m \u001b[0;32mfor\u001b[0m \u001b[0mi\u001b[0m \u001b[0;32min\u001b[0m \u001b[0mrange\u001b[0m\u001b[0;34m(\u001b[0m\u001b[0mlen\u001b[0m\u001b[0;34m(\u001b[0m\u001b[0mcenters\u001b[0m\u001b[0;34m)\u001b[0m\u001b[0;34m)\u001b[0m\u001b[0;34m:\u001b[0m\u001b[0;34m\u001b[0m\u001b[0;34m\u001b[0m\u001b[0m\n\u001b[0m\u001b[1;32m      3\u001b[0m     \u001b[0mranges\u001b[0m \u001b[0;34m=\u001b[0m \u001b[0mcenters\u001b[0m\u001b[0;34m[\u001b[0m\u001b[0mi\u001b[0m\u001b[0;34m,\u001b[0m \u001b[0;34m:\u001b[0m\u001b[0;34m]\u001b[0m\u001b[0;34m\u001b[0m\u001b[0;34m\u001b[0m\u001b[0m\n\u001b[1;32m      4\u001b[0m     \u001b[0mxranges\u001b[0m\u001b[0;34m,\u001b[0m \u001b[0myranges\u001b[0m \u001b[0;34m=\u001b[0m \u001b[0mlidar_polar_to_cart\u001b[0m\u001b[0;34m(\u001b[0m\u001b[0mranges\u001b[0m\u001b[0;34m,\u001b[0m \u001b[0mangle_min\u001b[0m\u001b[0;34m,\u001b[0m \u001b[0mangle_inc\u001b[0m\u001b[0;34m)\u001b[0m\u001b[0;34m\u001b[0m\u001b[0;34m\u001b[0m\u001b[0m\n\u001b[1;32m      5\u001b[0m     \u001b[0mplt\u001b[0m\u001b[0;34m.\u001b[0m\u001b[0mscatter\u001b[0m\u001b[0;34m(\u001b[0m\u001b[0mxranges\u001b[0m\u001b[0;34m,\u001b[0m \u001b[0myranges\u001b[0m\u001b[0;34m)\u001b[0m\u001b[0;34m\u001b[0m\u001b[0;34m\u001b[0m\u001b[0m\n",
      "\u001b[0;31mTypeError\u001b[0m: 'numpy.float64' object is not callable"
     ]
    }
   ],
   "source": [
    "centers = km.cluster_centers_\n",
    "for i in range(len(centers)):\n",
    "    ranges = centers[i, :]\n",
    "    xranges, yranges = lidar_polar_to_cart(ranges, angle_min, angle_inc)\n",
    "    plt.scatter(xranges, yranges)"
   ]
  },
  {
   "cell_type": "code",
   "execution_count": 31,
   "metadata": {},
   "outputs": [],
   "source": [
    "pickle.dump(centers, open('means.pkl', 'wb'))"
   ]
  },
  {
   "cell_type": "code",
   "execution_count": 119,
   "metadata": {},
   "outputs": [
    {
     "data": {
      "text/plain": [
       "<matplotlib.collections.PathCollection at 0x7f4d36d85710>"
      ]
     },
     "execution_count": 119,
     "metadata": {},
     "output_type": "execute_result"
    },
    {
     "data": {
      "image/png": "[encoded data removed]",
      "text/plain": [
       "<matplotlib.figure.Figure at 0x7f4d36d9f630>"
      ]
     },
     "metadata": {},
     "output_type": "display_data"
    }
   ],
   "source": [
    "idx = 3000\n",
    "out = km.predict(X)\n",
    "center0 = centers[out[idx], :]\n",
    "xranges, yranges = lidar_polar_to_cart(center0, angle_min, angle_inc)\n",
    "plt.scatter(xranges, yranges)\n",
    "\n",
    "ranges = X[idx, :]\n",
    "xranges, yranges = lidar_polar_to_cart(ranges, angle_min, angle_inc)\n",
    "plt.scatter(xranges, yranges)"
   ]
  },
  {
   "cell_type": "code",
   "execution_count": 125,
   "metadata": {},
   "outputs": [
    {
     "name": "stdout",
     "output_type": "stream",
     "text": [
      "1314.33839421 -0.951032944605\n"
     ]
    }
   ],
   "source": [
    "matches = np.array(out)\n",
    "steers = np.array(steers)\n",
    "\n",
    "i=0\n",
    "true_idxs = np.nonzero((matches == i))[0]\n",
    "true_steers = steers[true_idxs]\n",
    "rng = np.max(true_steers) - np.min(true_steers)\n",
    "mean = np.mean(true_steers)\n",
    "plt.scatter()\n",
    "print(rng * 180./np.pi, mean)"
   ]
  },
  {
   "cell_type": "code",
   "execution_count": 76,
   "metadata": {},
   "outputs": [
    {
     "name": "stdout",
     "output_type": "stream",
     "text": [
      "(1, 1080)\n",
      "[8]\n"
     ]
    }
   ],
   "source": [
    "scan1 = X[8197, :][None]\n",
    "print(scan1.shape)\n",
    "out = km.predict(scan1)\n",
    "print(out)"
   ]
  },
  {
   "cell_type": "code",
   "execution_count": 47,
   "metadata": {},
   "outputs": [],
   "source": [
    "pickle.dump(km, open('knn_model', 'wb')) "
   ]
  },
  {
   "cell_type": "code",
   "execution_count": null,
   "metadata": {},
   "outputs": [],
   "source": []
  }
 ],
 "metadata": {
  "kernelspec": {
   "display_name": "Python 3",
   "language": "python",
   "name": "python3"
  },
  "language_info": {
   "codemirror_mode": {
    "name": "ipython",
    "version": 3
   },
   "file_extension": ".py",
   "mimetype": "text/x-python",
   "name": "python",
   "nbconvert_exporter": "python",
   "pygments_lexer": "ipython3",
   "version": "3.6.9"
  }
 },
 "nbformat": 4,
 "nbformat_minor": 2
}
