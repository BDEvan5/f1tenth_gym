{
 "cells": [
  {
   "cell_type": "code",
   "execution_count": 1,
   "metadata": {},
   "outputs": [],
   "source": [
    "scan_fov = 4.7\n",
    "scan_beams = 1080\n",
    "angle_min = -scan_fov/2.\n",
    "angle_max = scan_fov/ 2.\n",
    "angle_inc = scan_fov / scan_beams"
   ]
  },
  {
   "cell_type": "code",
   "execution_count": null,
   "metadata": {},
   "outputs": [],
   "source": []
  },
  {
   "cell_type": "code",
   "execution_count": 2,
   "metadata": {},
   "outputs": [],
   "source": [
    "import numpy as np\n",
    "import math\n",
    "import matplotlib.pyplot as plt\n",
    "import os\n",
    "import pickle"
   ]
  },
  {
   "cell_type": "code",
   "execution_count": 3,
   "metadata": {},
   "outputs": [],
   "source": [
    "def polar_to_cart(theta, r):\n",
    "    \"\"\"\n",
    "    Assumes theta in radians & returns x,y\n",
    "    \"\"\"\n",
    "    x = r*np.cos(theta)\n",
    "    y = r*np.sin(theta)\n",
    "    return x,y\n",
    "    \n",
    "def lidar_polar_to_cart(ranges, angle_min, angle_increment):\n",
    "    \"\"\"\n",
    "    Convert a lidar_dict to cartesian & return x_ranges & y_ranges\n",
    "    \"\"\"\n",
    "    x_ranges = []\n",
    "    y_ranges = []\n",
    "    for i, r in enumerate(ranges):\n",
    "        if r == np.nan:\n",
    "            x_ranges.append(1000000)\n",
    "            y_ranges.append(1000000)\n",
    "        else:\n",
    "            theta = angle_min + i * angle_increment\n",
    "            x, y = polar_to_cart(theta + math.pi/2, r*100.0)\n",
    "            x_ranges.append(x)\n",
    "            y_ranges.append(y)\n",
    "    return x_ranges, y_ranges"
   ]
  },
  {
   "cell_type": "code",
   "execution_count": 4,
   "metadata": {},
   "outputs": [],
   "source": [
    "folderpath = '../data/sim_train/'\n",
    "pkl_list = os.listdir(folderpath)\n",
    "pkl_list.sort()\n",
    "pkl_list = pkl_list[:]"
   ]
  },
  {
   "cell_type": "code",
   "execution_count": 5,
   "metadata": {},
   "outputs": [],
   "source": [
    "X = np.zeros((len(pkl_list), 1080))\n",
    "steers = []\n",
    "for i, pkl_name in enumerate(pkl_list):\n",
    "    with open(os.path.join(folderpath, pkl_name), 'rb') as f:\n",
    "        pkl_dict = pickle.load(f)\n",
    "        obs = pkl_dict.get(\"obs\")\n",
    "        act = pkl_dict.get(\"action\")\n",
    "        scans = obs[\"scans\"]\n",
    "        X[i, :] = np.array(scans)\n",
    "        steers.append(act[\"angle\"])"
   ]
  },
  {
   "cell_type": "code",
   "execution_count": 15,
   "metadata": {},
   "outputs": [],
   "source": [
    "from sklearn.cluster import KMeans\n",
    "km = KMeans(\n",
    "    n_clusters=10, init='random',\n",
    "    n_init=10, max_iter=1000,\n",
    ")\n",
    "y_km = km.fit_predict(X)"
   ]
  },
  {
   "cell_type": "code",
   "execution_count": 16,
   "metadata": {},
   "outputs": [],
   "source": [
    "pickle.dump(km, open('../models/1/knn_model3', 'wb')) "
   ]
  },
  {
   "cell_type": "code",
   "execution_count": null,
   "metadata": {},
   "outputs": [],
   "source": [
    "km = pickle.load(open('../models/1/knn_model', 'rb'))\n",
    "centers = km.cluster_centers_\n",
    "for i in range(len(centers)):\n",
    "    ranges = centers[i, :]\n",
    "    xranges, yranges = lidar_polar_to_cart(ranges, angle_min, angle_inc)\n",
    "    plt.scatter(xranges, yranges)"
   ]
  },
  {
   "cell_type": "code",
   "execution_count": null,
   "metadata": {},
   "outputs": [],
   "source": []
  },
  {
   "cell_type": "code",
   "execution_count": 22,
   "metadata": {},
   "outputs": [
    {
     "data": {
      "text/plain": [
       "<matplotlib.collections.PathCollection at 0x7f1e6d8d96d8>"
      ]
     },
     "execution_count": 22,
     "metadata": {},
     "output_type": "execute_result"
    },
    {
     "data": {
      "image/png": "[encoded data removed]",
      "text/plain": [
       "<matplotlib.figure.Figure at 0x7f1e6d984ba8>"
      ]
     },
     "metadata": {},
     "output_type": "display_data"
    }
   ],
   "source": [
    "idx = 0\n",
    "out = km.predict(X)\n",
    "center0 = centers[out[idx], :]\n",
    "xranges, yranges = lidar_polar_to_cart(center0, angle_min, angle_inc)\n",
    "plt.scatter(xranges, yranges)\n",
    "\n",
    "ranges = X[idx, :]\n",
    "xranges, yranges = lidar_polar_to_cart(ranges, angle_min, angle_inc)\n",
    "plt.scatter(xranges, yranges)"
   ]
  },
  {
   "cell_type": "code",
   "execution_count": 24,
   "metadata": {},
   "outputs": [
    {
     "name": "stdout",
     "output_type": "stream",
     "text": [
      "RNG:25.432959906084882, MEAN:1.6615095512876012, MAX:17.204649348233904, MIN:-8.228310557850978\n",
      "RNG:24.435588929375676, MEAN:-3.2475574989677725, MAX:8.228310557851003, MIN:-16.207278371524673\n",
      "RNG:22.44084697595724, MEAN:-0.5970980970817691, MAX:11.719108976333235, MIN:-10.721737999624004\n",
      "RNG:28.207561080653583, MEAN:7.518865187642172, MAX:19.48056503444799, MIN:-8.726996046205594\n",
      "RNG:27.42770185950329, MEAN:2.8712751428309575, MAX:17.703334836588493, MIN:-9.724367022914798\n"
     ]
    },
    {
     "data": {
      "text/plain": [
       "<matplotlib.collections.PathCollection at 0x7f1e6da18240>"
      ]
     },
     "execution_count": 24,
     "metadata": {},
     "output_type": "execute_result"
    },
    {
     "data": {
      "image/png": "[encoded data removed]",
      "text/plain": [
       "<matplotlib.figure.Figure at 0x7f1e6d915e10>"
      ]
     },
     "metadata": {},
     "output_type": "display_data"
    }
   ],
   "source": [
    "import scipy.stats\n",
    "matches = np.array(out)\n",
    "steers = np.array(steers)\n",
    "output_angles = []\n",
    "for i in range(len(centers)):\n",
    "    true_idxs = np.nonzero((matches == i))[0]\n",
    "    true_steers = steers[true_idxs]\n",
    "    rng = np.max(true_steers) - np.min(true_steers)\n",
    "    mean = np.mean(true_steers)\n",
    "    count = scipy.stats.binned_statistic(true_steers, true_steers, statistic='count', bins=7)\n",
    "    max_bin_idx = np.argmax(count.statistic)\n",
    "    angle = count.bin_edges[max_bin_idx] + (count.bin_edges[max_bin_idx+1] - count.bin_edges[max_bin_idx])/2.\n",
    "    # plt.hist(true_steers, bins=7)\n",
    "    # plt.show()\n",
    "    print(f\"RNG:{rng}, MEAN:{mean}, MAX:{np.max(true_steers)}, MIN:{np.min(true_steers)}\")\n",
    "    output_angles.append(i)\n",
    "argmax, argmin = np.argmax(true_steers), np.argmin(true_steers)\n",
    "max_idx, min_idx = true_idxs[argmax], true_idxs[argmin]\n",
    "max_scan, min_scan = X[max_idx, :], X[min_idx, :]\n",
    "xmax, ymax = lidar_polar_to_cart(max_scan, angle_min, angle_inc)\n",
    "xmin, ymin = lidar_polar_to_cart(min_scan, angle_min, angle_inc)\n",
    "\n",
    "plt.scatter(xmax, ymax)\n",
    "plt.scatter(xmin, ymin)"
   ]
  },
  {
   "cell_type": "code",
   "execution_count": 25,
   "metadata": {},
   "outputs": [
    {
     "name": "stdout",
     "output_type": "stream",
     "text": [
      "(1, 1080)\n",
      "[0]\n"
     ]
    }
   ],
   "source": [
    "scan1 = X[8197, :][None]\n",
    "print(scan1.shape)\n",
    "out = km.predict(scan1)\n",
    "print(out)"
   ]
  },
  {
   "cell_type": "code",
   "execution_count": 47,
   "metadata": {},
   "outputs": [],
   "source": []
  },
  {
   "cell_type": "code",
   "execution_count": null,
   "metadata": {},
   "outputs": [],
   "source": []
  }
 ],
 "metadata": {
  "kernelspec": {
   "display_name": "Python 3",
   "language": "python",
   "name": "python3"
  },
  "language_info": {
   "codemirror_mode": {
    "name": "ipython",
    "version": 3
   },
   "file_extension": ".py",
   "mimetype": "text/x-python",
   "name": "python",
   "nbconvert_exporter": "python",
   "pygments_lexer": "ipython3",
   "version": "3.6.9"
  }
 },
 "nbformat": 4,
 "nbformat_minor": 2
}
